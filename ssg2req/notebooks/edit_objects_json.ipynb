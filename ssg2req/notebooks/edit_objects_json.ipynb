{
 "cells": [
  {
   "cell_type": "code",
   "execution_count": 2,
   "metadata": {},
   "outputs": [],
   "source": [
    "#最終的に作りたいフォーマットは全質問がリストになっていて、１つの質問ごとに辞書型で詳細を記述\n",
    "import json\n",
    "\n",
    "file_path = \"../../data/edited_objects.json\"\n",
    "objects_json = open(\"../../data/objects.json\",\"r\")\n",
    "objects = json.load(objects_json)\n",
    "\n",
    "#全てのインスタンスを一つのlistにまとめて格納、各要素は1層のdict\n",
    "all_objects = []"
   ]
  },
  {
   "cell_type": "code",
   "execution_count": 3,
   "metadata": {},
   "outputs": [],
   "source": [
    "#scansの中のリストを取り出す\n",
    "#print(isinstance(objects[\"scans\"],list))\n",
    "#True\n",
    "#各要素は辞書型になっている\n",
    "#print(isinstance(objects[\"scans\"][0],dict))\n",
    "#True\n",
    "scenes = objects[\"scans\"]\n",
    "for scene in scenes:\n",
    "    #現在探索中のscan名を変数で記憶\n",
    "    scene_id = scene[\"scan\"] \n",
    "    objects_list = scene[\"objects\"]\n",
    "    #print(isinstance(objects_list,list))\n",
    "    #True\n",
    "    for object in objects_list:\n",
    "        object['scene_id'] = scene_id\n",
    "        #辞書から特定のkeyを削除（不必要そうなやつを勝手に判断しました）\n",
    "        object.pop('ply_color')\n",
    "        object.pop('nyu40')\n",
    "        object.pop('eigen13')\n",
    "        object.pop('rio27')\n",
    "        object.pop('affordances',None)\n",
    "        all_objects.append(object)\n",
    "\n",
    "with open(file_path,'w') as outfile:\n",
    "    json.dump(all_objects, outfile, indent=2)"
   ]
  }
 ],
 "metadata": {
  "kernelspec": {
   "display_name": "Python 3.9.7 ('base')",
   "language": "python",
   "name": "python3"
  },
  "language_info": {
   "codemirror_mode": {
    "name": "ipython",
    "version": 3
   },
   "file_extension": ".py",
   "mimetype": "text/x-python",
   "name": "python",
   "nbconvert_exporter": "python",
   "pygments_lexer": "ipython3",
   "version": "3.9.7"
  },
  "orig_nbformat": 4,
  "vscode": {
   "interpreter": {
    "hash": "eb6f8871f7d38649d5b3f538397af71013d3438b49709e92812229ea772fe8e7"
   }
  }
 },
 "nbformat": 4,
 "nbformat_minor": 2
}
