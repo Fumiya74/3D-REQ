{
 "cells": [
  {
   "cell_type": "code",
   "execution_count": 8,
   "metadata": {},
   "outputs": [],
   "source": [
    "import json\n",
    "import copy\n",
    "from collections import Counter\n",
    "\n",
    "file_path = \"../../data/edited_objects.json\"\n",
    "objects_json = open(\"../../data/objects.json\",\"r\")\n",
    "objects = json.load(objects_json)\n",
    "r_open_file_path = '../../data/edited_relationships.json'\n",
    "r_file_open = open(r_open_file_path,'r')\n",
    "r_file = json.load(r_file_open)\n",
    "out = \"../../data/edited_relationships_v2.json\"\n",
    "all_scenes = []\n",
    "scenes = objects[\"scans\"]\n",
    "for scene in scenes:\n",
    "    scene_id = scene[\"scan\"] \n",
    "    objects_list = scene[\"objects\"]\n",
    "    objects_label_list = []\n",
    "    no_anchor_class = ['floor','ceiling']\n",
    "    relexist = False\n",
    "    for object in objects_list:\n",
    "        objects_label_list.append(object['label']) \n",
    "    \n",
    "    objects_label_c = Counter(objects_label_list)\n",
    "    for row in objects_label_c.most_common():\n",
    "        if row[1] >=3:\n",
    "            no_anchor_class.append(row[0])\n",
    "\n",
    "    \"\"\"\"\n",
    "    print(scene_id)\n",
    "    print(objects_label_c)\n",
    "    print(no_anchor_class)\n",
    "    \"\"\"\n",
    "    \n",
    "    scene_dict = {}\n",
    "    scene_dict['scene_id'] = scene_id\n",
    "\n",
    "    for relationships in r_file:\n",
    "        if relationships['scene_id'] == scene_id:\n",
    "            relexist = True\n",
    "            scene_dict['no_anchor_class'] = no_anchor_class\n",
    "            relationships_list = []\n",
    "            for relationship in relationships['relationships']:\n",
    "                for object2 in objects_list:\n",
    "                    if str(relationship[1]) == object2['id']:\n",
    "                        relationship.append(object2['label'])\n",
    "                        relationships_list.append(relationship)\n",
    "            scene_dict['relationships'] = relationships_list\n",
    "    if relexist:\n",
    "        all_scenes.append(scene_dict.copy())\n",
    "\n",
    "with open(out,'w') as outfile:\n",
    "    json.dump(all_scenes, outfile, indent=2)\n",
    "\n"
   ]
  }
 ],
 "metadata": {
  "kernelspec": {
   "display_name": "Python 3.9.7 ('base')",
   "language": "python",
   "name": "python3"
  },
  "language_info": {
   "codemirror_mode": {
    "name": "ipython",
    "version": 3
   },
   "file_extension": ".py",
   "mimetype": "text/x-python",
   "name": "python",
   "nbconvert_exporter": "python",
   "pygments_lexer": "ipython3",
   "version": "3.9.7"
  },
  "orig_nbformat": 4,
  "vscode": {
   "interpreter": {
    "hash": "eb6f8871f7d38649d5b3f538397af71013d3438b49709e92812229ea772fe8e7"
   }
  }
 },
 "nbformat": 4,
 "nbformat_minor": 2
}
